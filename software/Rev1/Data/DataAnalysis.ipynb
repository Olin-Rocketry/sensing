{
 "metadata": {
  "language_info": {
   "codemirror_mode": {
    "name": "ipython",
    "version": 3
   },
   "file_extension": ".py",
   "mimetype": "text/x-python",
   "name": "python",
   "nbconvert_exporter": "python",
   "pygments_lexer": "ipython3",
   "version": "3.8.5-final"
  },
  "orig_nbformat": 2,
  "kernelspec": {
   "name": "python385jvsc74a57bd0b3ba2566441a7c06988d0923437866b63cedc61552a5af99d1f4fb67d367b25f",
   "display_name": "Python 3.8.5 64-bit (conda)"
  }
 },
 "nbformat": 4,
 "nbformat_minor": 2,
 "cells": [
  {
   "cell_type": "code",
   "execution_count": 2,
   "metadata": {},
   "outputs": [],
   "source": [
    "import struct\n",
    "\n",
    "bytes = None\n",
    "with open(\"FLIGHT1.txt\", \"rb\") as data_file:\n",
    "    bytes = data_file.read()"
   ]
  },
  {
   "cell_type": "code",
   "execution_count": 3,
   "metadata": {},
   "outputs": [],
   "source": [
    "converted_bytes = [0] * round(len(bytes) / 32)\n",
    "for i in range(0, len(bytes), 32):\n",
    "    converted_bytes[round(i / 32)] = struct.unpack(\"Hfffffff\", bytes[i: i + 32])"
   ]
  },
  {
   "cell_type": "code",
   "execution_count": 5,
   "metadata": {},
   "outputs": [],
   "source": [
    "import csv\n",
    "with open(\"Flight_1.csv\", 'w', newline='') as write_file:\n",
    "    csv_out = csv.writer(write_file)\n",
    "    csv_out.writerow([\"Time since launch(ms)\", \"X Acceleration (m/s)\", \"Y Acceleration (m/s)\", \"Z Acceleration (m/s)\", \"Altitude (m)\", \"Pressure (Pa)\", \"Temp (F)\", \"Filtered Altitude (m)\"])\n",
    "    for row in converted_bytes:\n",
    "        csv_out.writerow(row)\n",
    "\n"
   ]
  }
 ]
}